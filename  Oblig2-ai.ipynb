{
 "cells": [
  {
   "cell_type": "code",
   "execution_count": null,
   "id": "926aad5d",
   "metadata": {},
   "outputs": [],
   "source": [
    "# Import necessary libraries\n",
    "import numpy as np\n",
    "import pandas as pd\n",
    "from sklearn.linear_model import LinearRegression\n",
    "from sklearn.model_selection import train_test_split\n",
    "import pickle\n",
    "\n",
    "#Last inn datasettet\n",
    "df =pd.read_csv('c:/Users/Asem ILyas/Downloads/TSLA.csv')  # Updated the file path\n",
    "\n",
    "#Split dataene inn i input (X) og output (y)\n",
    "X = df[['Open', 'High', 'Low', 'Close', 'Volume']]\n",
    "y = df['Close']\n",
    "\n",
    "#Del dataene inn i trenings- og testsett\n",
    "X_train, X_test, y_train, y_test = train_test_split(X, y, test_size=0.2, random_state=42)\n",
    "\n",
    "#Tren en lineær regresjonsmodell\n",
    "linear_regressor = LinearRegression()\n",
    "linear_regressor.fit(X_train, y_train)\n",
    "\n",
    "#Få datoen fra brukeren som input\n",
    "user_date = input(\"Enter the date in the format 'YYYY-MM-DD': \")\n",
    "\n",
    "# Documentation explaining algorithm choice\n",
    "algorithm_choice = \"Jeg valgte lineær regresjon fordi dette er et regresjonsproblem, og målet er å forutsi en numerisk verdi (aksjekurs).\"\n",
    "\n",
    "try:\n",
    "    #Dokumentasjon som forklarer valg av algoritme\n",
    "    specific_date_data = df.loc[df['Date'] == user_date][['Open', 'High', 'Low', 'Close', 'Volume']].values\n",
    "    specific_date_features = specific_date_data.reshape(1, -1)\n",
    "\n",
    "    #Gjør predction for den spesifikke datoen\n",
    "    predicted_price = linear_regressor.predict(specific_date_features)\n",
    "    print(f\"Predicted Stock Price on {user_date}: {predicted_price[0]:.2f}\")\n",
    "except ValueError:\n",
    "    print(f\"Data for {user_date} is not available in the dataset.\")\n",
    "\n",
    "# Model Evaluation med MAE, MSE og R-kvadrat\n",
    "from sklearn.metrics import mean_absolute_error, mean_squared_error, r2_score\n",
    "\n",
    "y_pred = linear_regressor.predict(X_test)\n",
    "mae = mean_absolute_error(y_test, y_pred)\n",
    "mse = mean_squared_error(y_test, y_pred)\n",
    "r2 = r2_score(y_test, y_pred)\n",
    "\n",
    "print(f\"Mean Absolute Error: {mae:.2f}\")\n",
    "print(f\"Mean Squared Error: {mse:.2f}\")\n",
    "print(f\"R-squared (R^2): {r2:.2f}\")\n",
    "\n",
    "with open('tesla_stock_price_model.pkl', 'wb') as model_file:\n",
    "    pickle.dump(linear_regressor, model_file)\n",
    "#Vi brukte regresjon for å forutsi TESLA-aksjekursen fordi regresjon passer når vi ønsker å gjøre forutsigelser av tallverdier, som pris. \n",
    "#Dette er nyttig for å forutsi aksjekurser basert på historiske data. \n",
    "#Vi valgte lineær regresjon, en enkel metode som passer godt for å lære grunnleggende maskinlæringskonsepter, som var målet med oppgaven."
   ]
  },
  {
   "cell_type": "code",
   "execution_count": null,
   "id": "05341a66",
   "metadata": {},
   "outputs": [],
   "source": []
  }
 ],
 "metadata": {
  "kernelspec": {
   "display_name": "Python 3",
   "language": "python",
   "name": "python3"
  },
  "language_info": {
   "codemirror_mode": {
    "name": "ipython",
    "version": 3
   },
   "file_extension": ".py",
   "mimetype": "text/x-python",
   "name": "python",
   "nbconvert_exporter": "python",
   "pygments_lexer": "ipython3",
   "version": "3.8.8"
  }
 },
 "nbformat": 4,
 "nbformat_minor": 5
}
